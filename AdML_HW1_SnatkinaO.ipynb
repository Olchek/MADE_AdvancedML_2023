{
  "nbformat": 4,
  "nbformat_minor": 0,
  "metadata": {
    "colab": {
      "provenance": []
    },
    "kernelspec": {
      "name": "python3",
      "display_name": "Python 3"
    },
    "language_info": {
      "name": "python"
    }
  },
  "cells": [
    {
      "cell_type": "code",
      "source": [
        "import pandas as pd\n",
        "import matplotlib.pyplot as plt\n",
        "import numpy as np \n",
        "from sklearn.linear_model import LinearRegression\n",
        "from datetime import datetime\n",
        "from scipy.stats import multivariate_normal\n",
        "\n",
        "cdata = pd.read_csv('owid-covid-data.csv')"
      ],
      "metadata": {
        "id": "KfrAPlCgdvKG"
      },
      "execution_count": 1,
      "outputs": []
    },
    {
      "cell_type": "code",
      "source": [
        "cdata.shape"
      ],
      "metadata": {
        "colab": {
          "base_uri": "https://localhost:8080/"
        },
        "id": "Q_k8MfZ080uE",
        "outputId": "829bb7f4-553e-403c-f799-857e213321ea"
      },
      "execution_count": 2,
      "outputs": [
        {
          "output_type": "execute_result",
          "data": {
            "text/plain": [
              "(293500, 67)"
            ]
          },
          "metadata": {},
          "execution_count": 2
        }
      ]
    },
    {
      "cell_type": "code",
      "source": [
        "cdata.head()"
      ],
      "metadata": {
        "colab": {
          "base_uri": "https://localhost:8080/",
          "height": 386
        },
        "id": "19Uamyr6d-N_",
        "outputId": "0788aac3-9ecd-4107-f1e8-4f722eac1362"
      },
      "execution_count": 3,
      "outputs": [
        {
          "output_type": "execute_result",
          "data": {
            "text/plain": [
              "  iso_code continent     location        date  total_cases  new_cases  \\\n",
              "0      AFG      Asia  Afghanistan  2020-01-03          NaN        0.0   \n",
              "1      AFG      Asia  Afghanistan  2020-01-04          NaN        0.0   \n",
              "2      AFG      Asia  Afghanistan  2020-01-05          NaN        0.0   \n",
              "3      AFG      Asia  Afghanistan  2020-01-06          NaN        0.0   \n",
              "4      AFG      Asia  Afghanistan  2020-01-07          NaN        0.0   \n",
              "\n",
              "   new_cases_smoothed  total_deaths  new_deaths  new_deaths_smoothed  ...  \\\n",
              "0                 NaN           NaN         0.0                  NaN  ...   \n",
              "1                 NaN           NaN         0.0                  NaN  ...   \n",
              "2                 NaN           NaN         0.0                  NaN  ...   \n",
              "3                 NaN           NaN         0.0                  NaN  ...   \n",
              "4                 NaN           NaN         0.0                  NaN  ...   \n",
              "\n",
              "   male_smokers  handwashing_facilities  hospital_beds_per_thousand  \\\n",
              "0           NaN                  37.746                         0.5   \n",
              "1           NaN                  37.746                         0.5   \n",
              "2           NaN                  37.746                         0.5   \n",
              "3           NaN                  37.746                         0.5   \n",
              "4           NaN                  37.746                         0.5   \n",
              "\n",
              "   life_expectancy  human_development_index  population  \\\n",
              "0            64.83                    0.511  41128772.0   \n",
              "1            64.83                    0.511  41128772.0   \n",
              "2            64.83                    0.511  41128772.0   \n",
              "3            64.83                    0.511  41128772.0   \n",
              "4            64.83                    0.511  41128772.0   \n",
              "\n",
              "   excess_mortality_cumulative_absolute  excess_mortality_cumulative  \\\n",
              "0                                   NaN                          NaN   \n",
              "1                                   NaN                          NaN   \n",
              "2                                   NaN                          NaN   \n",
              "3                                   NaN                          NaN   \n",
              "4                                   NaN                          NaN   \n",
              "\n",
              "   excess_mortality  excess_mortality_cumulative_per_million  \n",
              "0               NaN                                      NaN  \n",
              "1               NaN                                      NaN  \n",
              "2               NaN                                      NaN  \n",
              "3               NaN                                      NaN  \n",
              "4               NaN                                      NaN  \n",
              "\n",
              "[5 rows x 67 columns]"
            ],
            "text/html": [
              "\n",
              "  <div id=\"df-ae7ceb6e-11f1-40d3-ab70-d2713fe7862f\">\n",
              "    <div class=\"colab-df-container\">\n",
              "      <div>\n",
              "<style scoped>\n",
              "    .dataframe tbody tr th:only-of-type {\n",
              "        vertical-align: middle;\n",
              "    }\n",
              "\n",
              "    .dataframe tbody tr th {\n",
              "        vertical-align: top;\n",
              "    }\n",
              "\n",
              "    .dataframe thead th {\n",
              "        text-align: right;\n",
              "    }\n",
              "</style>\n",
              "<table border=\"1\" class=\"dataframe\">\n",
              "  <thead>\n",
              "    <tr style=\"text-align: right;\">\n",
              "      <th></th>\n",
              "      <th>iso_code</th>\n",
              "      <th>continent</th>\n",
              "      <th>location</th>\n",
              "      <th>date</th>\n",
              "      <th>total_cases</th>\n",
              "      <th>new_cases</th>\n",
              "      <th>new_cases_smoothed</th>\n",
              "      <th>total_deaths</th>\n",
              "      <th>new_deaths</th>\n",
              "      <th>new_deaths_smoothed</th>\n",
              "      <th>...</th>\n",
              "      <th>male_smokers</th>\n",
              "      <th>handwashing_facilities</th>\n",
              "      <th>hospital_beds_per_thousand</th>\n",
              "      <th>life_expectancy</th>\n",
              "      <th>human_development_index</th>\n",
              "      <th>population</th>\n",
              "      <th>excess_mortality_cumulative_absolute</th>\n",
              "      <th>excess_mortality_cumulative</th>\n",
              "      <th>excess_mortality</th>\n",
              "      <th>excess_mortality_cumulative_per_million</th>\n",
              "    </tr>\n",
              "  </thead>\n",
              "  <tbody>\n",
              "    <tr>\n",
              "      <th>0</th>\n",
              "      <td>AFG</td>\n",
              "      <td>Asia</td>\n",
              "      <td>Afghanistan</td>\n",
              "      <td>2020-01-03</td>\n",
              "      <td>NaN</td>\n",
              "      <td>0.0</td>\n",
              "      <td>NaN</td>\n",
              "      <td>NaN</td>\n",
              "      <td>0.0</td>\n",
              "      <td>NaN</td>\n",
              "      <td>...</td>\n",
              "      <td>NaN</td>\n",
              "      <td>37.746</td>\n",
              "      <td>0.5</td>\n",
              "      <td>64.83</td>\n",
              "      <td>0.511</td>\n",
              "      <td>41128772.0</td>\n",
              "      <td>NaN</td>\n",
              "      <td>NaN</td>\n",
              "      <td>NaN</td>\n",
              "      <td>NaN</td>\n",
              "    </tr>\n",
              "    <tr>\n",
              "      <th>1</th>\n",
              "      <td>AFG</td>\n",
              "      <td>Asia</td>\n",
              "      <td>Afghanistan</td>\n",
              "      <td>2020-01-04</td>\n",
              "      <td>NaN</td>\n",
              "      <td>0.0</td>\n",
              "      <td>NaN</td>\n",
              "      <td>NaN</td>\n",
              "      <td>0.0</td>\n",
              "      <td>NaN</td>\n",
              "      <td>...</td>\n",
              "      <td>NaN</td>\n",
              "      <td>37.746</td>\n",
              "      <td>0.5</td>\n",
              "      <td>64.83</td>\n",
              "      <td>0.511</td>\n",
              "      <td>41128772.0</td>\n",
              "      <td>NaN</td>\n",
              "      <td>NaN</td>\n",
              "      <td>NaN</td>\n",
              "      <td>NaN</td>\n",
              "    </tr>\n",
              "    <tr>\n",
              "      <th>2</th>\n",
              "      <td>AFG</td>\n",
              "      <td>Asia</td>\n",
              "      <td>Afghanistan</td>\n",
              "      <td>2020-01-05</td>\n",
              "      <td>NaN</td>\n",
              "      <td>0.0</td>\n",
              "      <td>NaN</td>\n",
              "      <td>NaN</td>\n",
              "      <td>0.0</td>\n",
              "      <td>NaN</td>\n",
              "      <td>...</td>\n",
              "      <td>NaN</td>\n",
              "      <td>37.746</td>\n",
              "      <td>0.5</td>\n",
              "      <td>64.83</td>\n",
              "      <td>0.511</td>\n",
              "      <td>41128772.0</td>\n",
              "      <td>NaN</td>\n",
              "      <td>NaN</td>\n",
              "      <td>NaN</td>\n",
              "      <td>NaN</td>\n",
              "    </tr>\n",
              "    <tr>\n",
              "      <th>3</th>\n",
              "      <td>AFG</td>\n",
              "      <td>Asia</td>\n",
              "      <td>Afghanistan</td>\n",
              "      <td>2020-01-06</td>\n",
              "      <td>NaN</td>\n",
              "      <td>0.0</td>\n",
              "      <td>NaN</td>\n",
              "      <td>NaN</td>\n",
              "      <td>0.0</td>\n",
              "      <td>NaN</td>\n",
              "      <td>...</td>\n",
              "      <td>NaN</td>\n",
              "      <td>37.746</td>\n",
              "      <td>0.5</td>\n",
              "      <td>64.83</td>\n",
              "      <td>0.511</td>\n",
              "      <td>41128772.0</td>\n",
              "      <td>NaN</td>\n",
              "      <td>NaN</td>\n",
              "      <td>NaN</td>\n",
              "      <td>NaN</td>\n",
              "    </tr>\n",
              "    <tr>\n",
              "      <th>4</th>\n",
              "      <td>AFG</td>\n",
              "      <td>Asia</td>\n",
              "      <td>Afghanistan</td>\n",
              "      <td>2020-01-07</td>\n",
              "      <td>NaN</td>\n",
              "      <td>0.0</td>\n",
              "      <td>NaN</td>\n",
              "      <td>NaN</td>\n",
              "      <td>0.0</td>\n",
              "      <td>NaN</td>\n",
              "      <td>...</td>\n",
              "      <td>NaN</td>\n",
              "      <td>37.746</td>\n",
              "      <td>0.5</td>\n",
              "      <td>64.83</td>\n",
              "      <td>0.511</td>\n",
              "      <td>41128772.0</td>\n",
              "      <td>NaN</td>\n",
              "      <td>NaN</td>\n",
              "      <td>NaN</td>\n",
              "      <td>NaN</td>\n",
              "    </tr>\n",
              "  </tbody>\n",
              "</table>\n",
              "<p>5 rows × 67 columns</p>\n",
              "</div>\n",
              "      <button class=\"colab-df-convert\" onclick=\"convertToInteractive('df-ae7ceb6e-11f1-40d3-ab70-d2713fe7862f')\"\n",
              "              title=\"Convert this dataframe to an interactive table.\"\n",
              "              style=\"display:none;\">\n",
              "        \n",
              "  <svg xmlns=\"http://www.w3.org/2000/svg\" height=\"24px\"viewBox=\"0 0 24 24\"\n",
              "       width=\"24px\">\n",
              "    <path d=\"M0 0h24v24H0V0z\" fill=\"none\"/>\n",
              "    <path d=\"M18.56 5.44l.94 2.06.94-2.06 2.06-.94-2.06-.94-.94-2.06-.94 2.06-2.06.94zm-11 1L8.5 8.5l.94-2.06 2.06-.94-2.06-.94L8.5 2.5l-.94 2.06-2.06.94zm10 10l.94 2.06.94-2.06 2.06-.94-2.06-.94-.94-2.06-.94 2.06-2.06.94z\"/><path d=\"M17.41 7.96l-1.37-1.37c-.4-.4-.92-.59-1.43-.59-.52 0-1.04.2-1.43.59L10.3 9.45l-7.72 7.72c-.78.78-.78 2.05 0 2.83L4 21.41c.39.39.9.59 1.41.59.51 0 1.02-.2 1.41-.59l7.78-7.78 2.81-2.81c.8-.78.8-2.07 0-2.86zM5.41 20L4 18.59l7.72-7.72 1.47 1.35L5.41 20z\"/>\n",
              "  </svg>\n",
              "      </button>\n",
              "      \n",
              "  <style>\n",
              "    .colab-df-container {\n",
              "      display:flex;\n",
              "      flex-wrap:wrap;\n",
              "      gap: 12px;\n",
              "    }\n",
              "\n",
              "    .colab-df-convert {\n",
              "      background-color: #E8F0FE;\n",
              "      border: none;\n",
              "      border-radius: 50%;\n",
              "      cursor: pointer;\n",
              "      display: none;\n",
              "      fill: #1967D2;\n",
              "      height: 32px;\n",
              "      padding: 0 0 0 0;\n",
              "      width: 32px;\n",
              "    }\n",
              "\n",
              "    .colab-df-convert:hover {\n",
              "      background-color: #E2EBFA;\n",
              "      box-shadow: 0px 1px 2px rgba(60, 64, 67, 0.3), 0px 1px 3px 1px rgba(60, 64, 67, 0.15);\n",
              "      fill: #174EA6;\n",
              "    }\n",
              "\n",
              "    [theme=dark] .colab-df-convert {\n",
              "      background-color: #3B4455;\n",
              "      fill: #D2E3FC;\n",
              "    }\n",
              "\n",
              "    [theme=dark] .colab-df-convert:hover {\n",
              "      background-color: #434B5C;\n",
              "      box-shadow: 0px 1px 3px 1px rgba(0, 0, 0, 0.15);\n",
              "      filter: drop-shadow(0px 1px 2px rgba(0, 0, 0, 0.3));\n",
              "      fill: #FFFFFF;\n",
              "    }\n",
              "  </style>\n",
              "\n",
              "      <script>\n",
              "        const buttonEl =\n",
              "          document.querySelector('#df-ae7ceb6e-11f1-40d3-ab70-d2713fe7862f button.colab-df-convert');\n",
              "        buttonEl.style.display =\n",
              "          google.colab.kernel.accessAllowed ? 'block' : 'none';\n",
              "\n",
              "        async function convertToInteractive(key) {\n",
              "          const element = document.querySelector('#df-ae7ceb6e-11f1-40d3-ab70-d2713fe7862f');\n",
              "          const dataTable =\n",
              "            await google.colab.kernel.invokeFunction('convertToInteractive',\n",
              "                                                     [key], {});\n",
              "          if (!dataTable) return;\n",
              "\n",
              "          const docLinkHtml = 'Like what you see? Visit the ' +\n",
              "            '<a target=\"_blank\" href=https://colab.research.google.com/notebooks/data_table.ipynb>data table notebook</a>'\n",
              "            + ' to learn more about interactive tables.';\n",
              "          element.innerHTML = '';\n",
              "          dataTable['output_type'] = 'display_data';\n",
              "          await google.colab.output.renderOutput(dataTable, element);\n",
              "          const docLink = document.createElement('div');\n",
              "          docLink.innerHTML = docLinkHtml;\n",
              "          element.appendChild(docLink);\n",
              "        }\n",
              "      </script>\n",
              "    </div>\n",
              "  </div>\n",
              "  "
            ]
          },
          "metadata": {},
          "execution_count": 3
        }
      ]
    },
    {
      "cell_type": "markdown",
      "source": [
        "Берем данные по России с 3 марта"
      ],
      "metadata": {
        "id": "Njtiq2lZxD8B"
      }
    },
    {
      "cell_type": "code",
      "source": [
        "cdata_rus = cdata[(cdata['location'] == 'Russia')&(cdata['date'] >= '2020-03-03')]\n",
        "cdata_rus.head()"
      ],
      "metadata": {
        "colab": {
          "base_uri": "https://localhost:8080/",
          "height": 386
        },
        "id": "otyDAEO6d_pV",
        "outputId": "973f5902-49da-436f-d16a-2649a229aa89"
      },
      "execution_count": 5,
      "outputs": [
        {
          "output_type": "execute_result",
          "data": {
            "text/plain": [
              "       iso_code continent location        date  total_cases  new_cases  \\\n",
              "214839      RUS    Europe   Russia  2020-03-03          3.0        1.0   \n",
              "214840      RUS    Europe   Russia  2020-03-04          3.0        0.0   \n",
              "214841      RUS    Europe   Russia  2020-03-05          3.0        0.0   \n",
              "214842      RUS    Europe   Russia  2020-03-06          4.0        1.0   \n",
              "214843      RUS    Europe   Russia  2020-03-07          4.0        0.0   \n",
              "\n",
              "        new_cases_smoothed  total_deaths  new_deaths  new_deaths_smoothed  \\\n",
              "214839               0.143           NaN         0.0                  0.0   \n",
              "214840               0.143           NaN         0.0                  0.0   \n",
              "214841               0.143           NaN         0.0                  0.0   \n",
              "214842               0.286           NaN         0.0                  0.0   \n",
              "214843               0.286           NaN         0.0                  0.0   \n",
              "\n",
              "        ...  male_smokers  handwashing_facilities  hospital_beds_per_thousand  \\\n",
              "214839  ...          58.3                     NaN                        8.05   \n",
              "214840  ...          58.3                     NaN                        8.05   \n",
              "214841  ...          58.3                     NaN                        8.05   \n",
              "214842  ...          58.3                     NaN                        8.05   \n",
              "214843  ...          58.3                     NaN                        8.05   \n",
              "\n",
              "        life_expectancy  human_development_index   population  \\\n",
              "214839            72.58                    0.824  144713312.0   \n",
              "214840            72.58                    0.824  144713312.0   \n",
              "214841            72.58                    0.824  144713312.0   \n",
              "214842            72.58                    0.824  144713312.0   \n",
              "214843            72.58                    0.824  144713312.0   \n",
              "\n",
              "        excess_mortality_cumulative_absolute  excess_mortality_cumulative  \\\n",
              "214839                                   NaN                          NaN   \n",
              "214840                                   NaN                          NaN   \n",
              "214841                                   NaN                          NaN   \n",
              "214842                                   NaN                          NaN   \n",
              "214843                                   NaN                          NaN   \n",
              "\n",
              "        excess_mortality  excess_mortality_cumulative_per_million  \n",
              "214839               NaN                                      NaN  \n",
              "214840               NaN                                      NaN  \n",
              "214841               NaN                                      NaN  \n",
              "214842               NaN                                      NaN  \n",
              "214843               NaN                                      NaN  \n",
              "\n",
              "[5 rows x 67 columns]"
            ],
            "text/html": [
              "\n",
              "  <div id=\"df-7079208f-c52d-46b3-b7f0-6ac30a09f465\">\n",
              "    <div class=\"colab-df-container\">\n",
              "      <div>\n",
              "<style scoped>\n",
              "    .dataframe tbody tr th:only-of-type {\n",
              "        vertical-align: middle;\n",
              "    }\n",
              "\n",
              "    .dataframe tbody tr th {\n",
              "        vertical-align: top;\n",
              "    }\n",
              "\n",
              "    .dataframe thead th {\n",
              "        text-align: right;\n",
              "    }\n",
              "</style>\n",
              "<table border=\"1\" class=\"dataframe\">\n",
              "  <thead>\n",
              "    <tr style=\"text-align: right;\">\n",
              "      <th></th>\n",
              "      <th>iso_code</th>\n",
              "      <th>continent</th>\n",
              "      <th>location</th>\n",
              "      <th>date</th>\n",
              "      <th>total_cases</th>\n",
              "      <th>new_cases</th>\n",
              "      <th>new_cases_smoothed</th>\n",
              "      <th>total_deaths</th>\n",
              "      <th>new_deaths</th>\n",
              "      <th>new_deaths_smoothed</th>\n",
              "      <th>...</th>\n",
              "      <th>male_smokers</th>\n",
              "      <th>handwashing_facilities</th>\n",
              "      <th>hospital_beds_per_thousand</th>\n",
              "      <th>life_expectancy</th>\n",
              "      <th>human_development_index</th>\n",
              "      <th>population</th>\n",
              "      <th>excess_mortality_cumulative_absolute</th>\n",
              "      <th>excess_mortality_cumulative</th>\n",
              "      <th>excess_mortality</th>\n",
              "      <th>excess_mortality_cumulative_per_million</th>\n",
              "    </tr>\n",
              "  </thead>\n",
              "  <tbody>\n",
              "    <tr>\n",
              "      <th>214839</th>\n",
              "      <td>RUS</td>\n",
              "      <td>Europe</td>\n",
              "      <td>Russia</td>\n",
              "      <td>2020-03-03</td>\n",
              "      <td>3.0</td>\n",
              "      <td>1.0</td>\n",
              "      <td>0.143</td>\n",
              "      <td>NaN</td>\n",
              "      <td>0.0</td>\n",
              "      <td>0.0</td>\n",
              "      <td>...</td>\n",
              "      <td>58.3</td>\n",
              "      <td>NaN</td>\n",
              "      <td>8.05</td>\n",
              "      <td>72.58</td>\n",
              "      <td>0.824</td>\n",
              "      <td>144713312.0</td>\n",
              "      <td>NaN</td>\n",
              "      <td>NaN</td>\n",
              "      <td>NaN</td>\n",
              "      <td>NaN</td>\n",
              "    </tr>\n",
              "    <tr>\n",
              "      <th>214840</th>\n",
              "      <td>RUS</td>\n",
              "      <td>Europe</td>\n",
              "      <td>Russia</td>\n",
              "      <td>2020-03-04</td>\n",
              "      <td>3.0</td>\n",
              "      <td>0.0</td>\n",
              "      <td>0.143</td>\n",
              "      <td>NaN</td>\n",
              "      <td>0.0</td>\n",
              "      <td>0.0</td>\n",
              "      <td>...</td>\n",
              "      <td>58.3</td>\n",
              "      <td>NaN</td>\n",
              "      <td>8.05</td>\n",
              "      <td>72.58</td>\n",
              "      <td>0.824</td>\n",
              "      <td>144713312.0</td>\n",
              "      <td>NaN</td>\n",
              "      <td>NaN</td>\n",
              "      <td>NaN</td>\n",
              "      <td>NaN</td>\n",
              "    </tr>\n",
              "    <tr>\n",
              "      <th>214841</th>\n",
              "      <td>RUS</td>\n",
              "      <td>Europe</td>\n",
              "      <td>Russia</td>\n",
              "      <td>2020-03-05</td>\n",
              "      <td>3.0</td>\n",
              "      <td>0.0</td>\n",
              "      <td>0.143</td>\n",
              "      <td>NaN</td>\n",
              "      <td>0.0</td>\n",
              "      <td>0.0</td>\n",
              "      <td>...</td>\n",
              "      <td>58.3</td>\n",
              "      <td>NaN</td>\n",
              "      <td>8.05</td>\n",
              "      <td>72.58</td>\n",
              "      <td>0.824</td>\n",
              "      <td>144713312.0</td>\n",
              "      <td>NaN</td>\n",
              "      <td>NaN</td>\n",
              "      <td>NaN</td>\n",
              "      <td>NaN</td>\n",
              "    </tr>\n",
              "    <tr>\n",
              "      <th>214842</th>\n",
              "      <td>RUS</td>\n",
              "      <td>Europe</td>\n",
              "      <td>Russia</td>\n",
              "      <td>2020-03-06</td>\n",
              "      <td>4.0</td>\n",
              "      <td>1.0</td>\n",
              "      <td>0.286</td>\n",
              "      <td>NaN</td>\n",
              "      <td>0.0</td>\n",
              "      <td>0.0</td>\n",
              "      <td>...</td>\n",
              "      <td>58.3</td>\n",
              "      <td>NaN</td>\n",
              "      <td>8.05</td>\n",
              "      <td>72.58</td>\n",
              "      <td>0.824</td>\n",
              "      <td>144713312.0</td>\n",
              "      <td>NaN</td>\n",
              "      <td>NaN</td>\n",
              "      <td>NaN</td>\n",
              "      <td>NaN</td>\n",
              "    </tr>\n",
              "    <tr>\n",
              "      <th>214843</th>\n",
              "      <td>RUS</td>\n",
              "      <td>Europe</td>\n",
              "      <td>Russia</td>\n",
              "      <td>2020-03-07</td>\n",
              "      <td>4.0</td>\n",
              "      <td>0.0</td>\n",
              "      <td>0.286</td>\n",
              "      <td>NaN</td>\n",
              "      <td>0.0</td>\n",
              "      <td>0.0</td>\n",
              "      <td>...</td>\n",
              "      <td>58.3</td>\n",
              "      <td>NaN</td>\n",
              "      <td>8.05</td>\n",
              "      <td>72.58</td>\n",
              "      <td>0.824</td>\n",
              "      <td>144713312.0</td>\n",
              "      <td>NaN</td>\n",
              "      <td>NaN</td>\n",
              "      <td>NaN</td>\n",
              "      <td>NaN</td>\n",
              "    </tr>\n",
              "  </tbody>\n",
              "</table>\n",
              "<p>5 rows × 67 columns</p>\n",
              "</div>\n",
              "      <button class=\"colab-df-convert\" onclick=\"convertToInteractive('df-7079208f-c52d-46b3-b7f0-6ac30a09f465')\"\n",
              "              title=\"Convert this dataframe to an interactive table.\"\n",
              "              style=\"display:none;\">\n",
              "        \n",
              "  <svg xmlns=\"http://www.w3.org/2000/svg\" height=\"24px\"viewBox=\"0 0 24 24\"\n",
              "       width=\"24px\">\n",
              "    <path d=\"M0 0h24v24H0V0z\" fill=\"none\"/>\n",
              "    <path d=\"M18.56 5.44l.94 2.06.94-2.06 2.06-.94-2.06-.94-.94-2.06-.94 2.06-2.06.94zm-11 1L8.5 8.5l.94-2.06 2.06-.94-2.06-.94L8.5 2.5l-.94 2.06-2.06.94zm10 10l.94 2.06.94-2.06 2.06-.94-2.06-.94-.94-2.06-.94 2.06-2.06.94z\"/><path d=\"M17.41 7.96l-1.37-1.37c-.4-.4-.92-.59-1.43-.59-.52 0-1.04.2-1.43.59L10.3 9.45l-7.72 7.72c-.78.78-.78 2.05 0 2.83L4 21.41c.39.39.9.59 1.41.59.51 0 1.02-.2 1.41-.59l7.78-7.78 2.81-2.81c.8-.78.8-2.07 0-2.86zM5.41 20L4 18.59l7.72-7.72 1.47 1.35L5.41 20z\"/>\n",
              "  </svg>\n",
              "      </button>\n",
              "      \n",
              "  <style>\n",
              "    .colab-df-container {\n",
              "      display:flex;\n",
              "      flex-wrap:wrap;\n",
              "      gap: 12px;\n",
              "    }\n",
              "\n",
              "    .colab-df-convert {\n",
              "      background-color: #E8F0FE;\n",
              "      border: none;\n",
              "      border-radius: 50%;\n",
              "      cursor: pointer;\n",
              "      display: none;\n",
              "      fill: #1967D2;\n",
              "      height: 32px;\n",
              "      padding: 0 0 0 0;\n",
              "      width: 32px;\n",
              "    }\n",
              "\n",
              "    .colab-df-convert:hover {\n",
              "      background-color: #E2EBFA;\n",
              "      box-shadow: 0px 1px 2px rgba(60, 64, 67, 0.3), 0px 1px 3px 1px rgba(60, 64, 67, 0.15);\n",
              "      fill: #174EA6;\n",
              "    }\n",
              "\n",
              "    [theme=dark] .colab-df-convert {\n",
              "      background-color: #3B4455;\n",
              "      fill: #D2E3FC;\n",
              "    }\n",
              "\n",
              "    [theme=dark] .colab-df-convert:hover {\n",
              "      background-color: #434B5C;\n",
              "      box-shadow: 0px 1px 3px 1px rgba(0, 0, 0, 0.15);\n",
              "      filter: drop-shadow(0px 1px 2px rgba(0, 0, 0, 0.3));\n",
              "      fill: #FFFFFF;\n",
              "    }\n",
              "  </style>\n",
              "\n",
              "      <script>\n",
              "        const buttonEl =\n",
              "          document.querySelector('#df-7079208f-c52d-46b3-b7f0-6ac30a09f465 button.colab-df-convert');\n",
              "        buttonEl.style.display =\n",
              "          google.colab.kernel.accessAllowed ? 'block' : 'none';\n",
              "\n",
              "        async function convertToInteractive(key) {\n",
              "          const element = document.querySelector('#df-7079208f-c52d-46b3-b7f0-6ac30a09f465');\n",
              "          const dataTable =\n",
              "            await google.colab.kernel.invokeFunction('convertToInteractive',\n",
              "                                                     [key], {});\n",
              "          if (!dataTable) return;\n",
              "\n",
              "          const docLinkHtml = 'Like what you see? Visit the ' +\n",
              "            '<a target=\"_blank\" href=https://colab.research.google.com/notebooks/data_table.ipynb>data table notebook</a>'\n",
              "            + ' to learn more about interactive tables.';\n",
              "          element.innerHTML = '';\n",
              "          dataTable['output_type'] = 'display_data';\n",
              "          await google.colab.output.renderOutput(dataTable, element);\n",
              "          const docLink = document.createElement('div');\n",
              "          docLink.innerHTML = docLinkHtml;\n",
              "          element.appendChild(docLink);\n",
              "        }\n",
              "      </script>\n",
              "    </div>\n",
              "  </div>\n",
              "  "
            ]
          },
          "metadata": {},
          "execution_count": 5
        }
      ]
    },
    {
      "cell_type": "code",
      "source": [
        "cdata_rus.shape"
      ],
      "metadata": {
        "colab": {
          "base_uri": "https://localhost:8080/"
        },
        "id": "8sTDWF4P-mqc",
        "outputId": "bd1f1960-3ed2-4c68-e113-d989c39bbd3b"
      },
      "execution_count": 49,
      "outputs": [
        {
          "output_type": "execute_result",
          "data": {
            "text/plain": [
              "(1102, 67)"
            ]
          },
          "metadata": {},
          "execution_count": 49
        }
      ]
    },
    {
      "cell_type": "code",
      "source": [
        "cdata_rus.columns"
      ],
      "metadata": {
        "colab": {
          "base_uri": "https://localhost:8080/"
        },
        "id": "RKIBgvaf5vfI",
        "outputId": "9287e960-0cfd-474c-b22a-3c1f781fb95e"
      },
      "execution_count": 50,
      "outputs": [
        {
          "output_type": "execute_result",
          "data": {
            "text/plain": [
              "Index(['iso_code', 'continent', 'location', 'date', 'total_cases', 'new_cases',\n",
              "       'new_cases_smoothed', 'total_deaths', 'new_deaths',\n",
              "       'new_deaths_smoothed', 'total_cases_per_million',\n",
              "       'new_cases_per_million', 'new_cases_smoothed_per_million',\n",
              "       'total_deaths_per_million', 'new_deaths_per_million',\n",
              "       'new_deaths_smoothed_per_million', 'reproduction_rate', 'icu_patients',\n",
              "       'icu_patients_per_million', 'hosp_patients',\n",
              "       'hosp_patients_per_million', 'weekly_icu_admissions',\n",
              "       'weekly_icu_admissions_per_million', 'weekly_hosp_admissions',\n",
              "       'weekly_hosp_admissions_per_million', 'total_tests', 'new_tests',\n",
              "       'total_tests_per_thousand', 'new_tests_per_thousand',\n",
              "       'new_tests_smoothed', 'new_tests_smoothed_per_thousand',\n",
              "       'positive_rate', 'tests_per_case', 'tests_units', 'total_vaccinations',\n",
              "       'people_vaccinated', 'people_fully_vaccinated', 'total_boosters',\n",
              "       'new_vaccinations', 'new_vaccinations_smoothed',\n",
              "       'total_vaccinations_per_hundred', 'people_vaccinated_per_hundred',\n",
              "       'people_fully_vaccinated_per_hundred', 'total_boosters_per_hundred',\n",
              "       'new_vaccinations_smoothed_per_million',\n",
              "       'new_people_vaccinated_smoothed',\n",
              "       'new_people_vaccinated_smoothed_per_hundred', 'stringency_index',\n",
              "       'population_density', 'median_age', 'aged_65_older', 'aged_70_older',\n",
              "       'gdp_per_capita', 'extreme_poverty', 'cardiovasc_death_rate',\n",
              "       'diabetes_prevalence', 'female_smokers', 'male_smokers',\n",
              "       'handwashing_facilities', 'hospital_beds_per_thousand',\n",
              "       'life_expectancy', 'human_development_index', 'population',\n",
              "       'excess_mortality_cumulative_absolute', 'excess_mortality_cumulative',\n",
              "       'excess_mortality', 'excess_mortality_cumulative_per_million'],\n",
              "      dtype='object')"
            ]
          },
          "metadata": {},
          "execution_count": 50
        }
      ]
    },
    {
      "cell_type": "code",
      "source": [
        "plt.figure(figsize=(25,6))\n",
        "plt.plot(cdata_rus['date'], cdata_rus['new_cases'])\n"
      ],
      "metadata": {
        "colab": {
          "base_uri": "https://localhost:8080/",
          "height": 341
        },
        "id": "KPZ5sqMJAsKL",
        "outputId": "7ec5a0cb-961e-4cf4-9522-b10e0daf2453"
      },
      "execution_count": 42,
      "outputs": [
        {
          "output_type": "display_data",
          "data": {
            "text/plain": [
              "<Figure size 1800x432 with 1 Axes>"
            ],
            "image/png": "[encoded data removed]"
          },
          "metadata": {
            "needs_background": "light"
          }
        }
      ]
    },
    {
      "cell_type": "markdown",
      "source": [
        "График роста заболеваемости в России по дням с начала эпидемии"
      ],
      "metadata": {
        "id": "dcwAb850xSE-"
      }
    },
    {
      "cell_type": "code",
      "source": [
        "plt.figure(figsize=(25,6))\n",
        "plt.plot(cdata_rus['date'], cdata_rus['total_cases'])\n"
      ],
      "metadata": {
        "colab": {
          "base_uri": "https://localhost:8080/",
          "height": 373
        },
        "id": "Wmwx549lEcF0",
        "outputId": "293a8024-b544-4f4e-d198-463dcd82ee47"
      },
      "execution_count": 43,
      "outputs": [
        {
          "output_type": "execute_result",
          "data": {
            "text/plain": [
              "<module 'matplotlib.pyplot' from '/usr/local/lib/python3.9/dist-packages/matplotlib/pyplot.py'>"
            ]
          },
          "metadata": {},
          "execution_count": 43
        },
        {
          "output_type": "display_data",
          "data": {
            "text/plain": [
              "<Figure size 1800x432 with 1 Axes>"
            ],
            "image/png": "[encoded data removed]"
          },
          "metadata": {
            "needs_background": "light"
          }
        }
      ]
    },
    {
      "cell_type": "markdown",
      "source": [
        "Начало роста заболеваемости похоже на экспоненту"
      ],
      "metadata": {
        "id": "uzg1N0V6xX1v"
      }
    },
    {
      "cell_type": "code",
      "source": [
        "plt.figure(figsize=(25,6))\n",
        "plt.plot(cdata_rus['date'].head(50), cdata_rus['total_cases'].head(50))"
      ],
      "metadata": {
        "colab": {
          "base_uri": "https://localhost:8080/",
          "height": 360
        },
        "id": "Lks5QGW7GK3K",
        "outputId": "4cfedfa4-331d-4991-a39b-57869f60a6ac"
      },
      "execution_count": 47,
      "outputs": [
        {
          "output_type": "execute_result",
          "data": {
            "text/plain": [
              "[<matplotlib.lines.Line2D at 0x7f563ea7f2b0>]"
            ]
          },
          "metadata": {},
          "execution_count": 47
        },
        {
          "output_type": "display_data",
          "data": {
            "text/plain": [
              "<Figure size 1800x432 with 1 Axes>"
            ],
            "image/png": "[encoded data removed]"
          },
          "metadata": {
            "needs_background": "light"
          }
        }
      ]
    },
    {
      "cell_type": "markdown",
      "source": [
        "\n",
        "# Задание 1\n"
      ],
      "metadata": {
        "id": "fP5GAV-vKKlE"
      }
    },
    {
      "cell_type": "markdown",
      "source": [
        "Смоделируем рост заболеваемости ковидом с помощью линейной регрессии. \n",
        "Допустим, что рост  экспоненциальный от порядкового дня x с начала распространения. \n",
        "\n",
        "$$\n",
        "y =  \\ e^{Ax} \\, \n",
        "$$\n",
        "\n",
        "$$\n",
        "ln(y) = Ax\n",
        "$$\n",
        "Получили линейную модель. В нашем случае \n",
        "$$\n",
        "y = ln(total__cases)\n",
        "$$\n",
        ", x - дней с начала распространения"
      ],
      "metadata": {
        "id": "Vj2RuZpixnFQ"
      }
    },
    {
      "cell_type": "code",
      "source": [
        "# добавляем необходимые данные\n",
        "cdata_rus['log_target'] = cdata_rus.total_cases.apply(lambda x: np.log(x))\n",
        "cdata_rus['daily_order'] = cdata_rus.date.apply(lambda x: (datetime.strptime(x, \"%Y-%m-%d\") - datetime.strptime(cdata_rus['date'].iloc[0], \"%Y-%m-%d\")).days )\n"
      ],
      "metadata": {
        "colab": {
          "base_uri": "https://localhost:8080/"
        },
        "id": "UKsiJhgvM3AK",
        "outputId": "9370312c-9573-4e9b-a56b-a5e494efc877"
      },
      "execution_count": 6,
      "outputs": [
        {
          "output_type": "stream",
          "name": "stderr",
          "text": [
            "<ipython-input-6-47a0e766494c>:2: SettingWithCopyWarning: \n",
            "A value is trying to be set on a copy of a slice from a DataFrame.\n",
            "Try using .loc[row_indexer,col_indexer] = value instead\n",
            "\n",
            "See the caveats in the documentation: https://pandas.pydata.org/pandas-docs/stable/user_guide/indexing.html#returning-a-view-versus-a-copy\n",
            "  cdata_rus['log_target'] = cdata_rus.total_cases.apply(lambda x: np.log(x))\n",
            "<ipython-input-6-47a0e766494c>:3: SettingWithCopyWarning: \n",
            "A value is trying to be set on a copy of a slice from a DataFrame.\n",
            "Try using .loc[row_indexer,col_indexer] = value instead\n",
            "\n",
            "See the caveats in the documentation: https://pandas.pydata.org/pandas-docs/stable/user_guide/indexing.html#returning-a-view-versus-a-copy\n",
            "  cdata_rus['daily_order'] = cdata_rus.date.apply(lambda x: (datetime.strptime(x, \"%Y-%m-%d\") - datetime.strptime(cdata_rus['date'].iloc[0], \"%Y-%m-%d\")).days )\n"
          ]
        }
      ]
    },
    {
      "cell_type": "code",
      "source": [
        "cdata_rus.tail() "
      ],
      "metadata": {
        "colab": {
          "base_uri": "https://localhost:8080/",
          "height": 386
        },
        "id": "ExgXb4SVIObY",
        "outputId": "43e108ef-2a74-4290-8f67-1df46d4cd85b"
      },
      "execution_count": 52,
      "outputs": [
        {
          "output_type": "execute_result",
          "data": {
            "text/plain": [
              "       iso_code continent location        date  total_cases  new_cases  \\\n",
              "215936      RUS    Europe   Russia  2023-03-05   22342128.0    13559.0   \n",
              "215937      RUS    Europe   Russia  2023-03-06   22353291.0    11163.0   \n",
              "215938      RUS    Europe   Russia  2023-03-07   22363740.0    10449.0   \n",
              "215939      RUS    Europe   Russia  2023-03-08          NaN        NaN   \n",
              "215940      RUS    Europe   Russia  2023-03-09          NaN        NaN   \n",
              "\n",
              "        new_cases_smoothed  total_deaths  new_deaths  new_deaths_smoothed  \\\n",
              "215936           12713.000      396298.0        43.0               37.571   \n",
              "215937           12939.143      396336.0        38.0               38.714   \n",
              "215938           13038.571      396378.0        42.0               39.714   \n",
              "215939                 NaN           NaN         NaN                  NaN   \n",
              "215940                 NaN           NaN         NaN                  NaN   \n",
              "\n",
              "        ...  hospital_beds_per_thousand  life_expectancy  \\\n",
              "215936  ...                        8.05            72.58   \n",
              "215937  ...                        8.05            72.58   \n",
              "215938  ...                        8.05            72.58   \n",
              "215939  ...                        8.05            72.58   \n",
              "215940  ...                        8.05            72.58   \n",
              "\n",
              "        human_development_index   population  \\\n",
              "215936                    0.824  144713312.0   \n",
              "215937                    0.824  144713312.0   \n",
              "215938                    0.824  144713312.0   \n",
              "215939                    0.824  144713312.0   \n",
              "215940                    0.824  144713312.0   \n",
              "\n",
              "        excess_mortality_cumulative_absolute  excess_mortality_cumulative  \\\n",
              "215936                                   NaN                          NaN   \n",
              "215937                                   NaN                          NaN   \n",
              "215938                                   NaN                          NaN   \n",
              "215939                                   NaN                          NaN   \n",
              "215940                                   NaN                          NaN   \n",
              "\n",
              "        excess_mortality  excess_mortality_cumulative_per_million  log_target  \\\n",
              "215936               NaN                                      NaN   16.921985   \n",
              "215937               NaN                                      NaN   16.922484   \n",
              "215938               NaN                                      NaN   16.922951   \n",
              "215939               NaN                                      NaN         NaN   \n",
              "215940               NaN                                      NaN         NaN   \n",
              "\n",
              "        daily_order  \n",
              "215936         1097  \n",
              "215937         1098  \n",
              "215938         1099  \n",
              "215939         1100  \n",
              "215940         1101  \n",
              "\n",
              "[5 rows x 69 columns]"
            ],
            "text/html": [
              "\n",
              "  <div id=\"df-60431da9-b0e0-4b09-8434-e7e13090a54f\">\n",
              "    <div class=\"colab-df-container\">\n",
              "      <div>\n",
              "<style scoped>\n",
              "    .dataframe tbody tr th:only-of-type {\n",
              "        vertical-align: middle;\n",
              "    }\n",
              "\n",
              "    .dataframe tbody tr th {\n",
              "        vertical-align: top;\n",
              "    }\n",
              "\n",
              "    .dataframe thead th {\n",
              "        text-align: right;\n",
              "    }\n",
              "</style>\n",
              "<table border=\"1\" class=\"dataframe\">\n",
              "  <thead>\n",
              "    <tr style=\"text-align: right;\">\n",
              "      <th></th>\n",
              "      <th>iso_code</th>\n",
              "      <th>continent</th>\n",
              "      <th>location</th>\n",
              "      <th>date</th>\n",
              "      <th>total_cases</th>\n",
              "      <th>new_cases</th>\n",
              "      <th>new_cases_smoothed</th>\n",
              "      <th>total_deaths</th>\n",
              "      <th>new_deaths</th>\n",
              "      <th>new_deaths_smoothed</th>\n",
              "      <th>...</th>\n",
              "      <th>hospital_beds_per_thousand</th>\n",
              "      <th>life_expectancy</th>\n",
              "      <th>human_development_index</th>\n",
              "      <th>population</th>\n",
              "      <th>excess_mortality_cumulative_absolute</th>\n",
              "      <th>excess_mortality_cumulative</th>\n",
              "      <th>excess_mortality</th>\n",
              "      <th>excess_mortality_cumulative_per_million</th>\n",
              "      <th>log_target</th>\n",
              "      <th>daily_order</th>\n",
              "    </tr>\n",
              "  </thead>\n",
              "  <tbody>\n",
              "    <tr>\n",
              "      <th>215936</th>\n",
              "      <td>RUS</td>\n",
              "      <td>Europe</td>\n",
              "      <td>Russia</td>\n",
              "      <td>2023-03-05</td>\n",
              "      <td>22342128.0</td>\n",
              "      <td>13559.0</td>\n",
              "      <td>12713.000</td>\n",
              "      <td>396298.0</td>\n",
              "      <td>43.0</td>\n",
              "      <td>37.571</td>\n",
              "      <td>...</td>\n",
              "      <td>8.05</td>\n",
              "      <td>72.58</td>\n",
              "      <td>0.824</td>\n",
              "      <td>144713312.0</td>\n",
              "      <td>NaN</td>\n",
              "      <td>NaN</td>\n",
              "      <td>NaN</td>\n",
              "      <td>NaN</td>\n",
              "      <td>16.921985</td>\n",
              "      <td>1097</td>\n",
              "    </tr>\n",
              "    <tr>\n",
              "      <th>215937</th>\n",
              "      <td>RUS</td>\n",
              "      <td>Europe</td>\n",
              "      <td>Russia</td>\n",
              "      <td>2023-03-06</td>\n",
              "      <td>22353291.0</td>\n",
              "      <td>11163.0</td>\n",
              "      <td>12939.143</td>\n",
              "      <td>396336.0</td>\n",
              "      <td>38.0</td>\n",
              "      <td>38.714</td>\n",
              "      <td>...</td>\n",
              "      <td>8.05</td>\n",
              "      <td>72.58</td>\n",
              "      <td>0.824</td>\n",
              "      <td>144713312.0</td>\n",
              "      <td>NaN</td>\n",
              "      <td>NaN</td>\n",
              "      <td>NaN</td>\n",
              "      <td>NaN</td>\n",
              "      <td>16.922484</td>\n",
              "      <td>1098</td>\n",
              "    </tr>\n",
              "    <tr>\n",
              "      <th>215938</th>\n",
              "      <td>RUS</td>\n",
              "      <td>Europe</td>\n",
              "      <td>Russia</td>\n",
              "      <td>2023-03-07</td>\n",
              "      <td>22363740.0</td>\n",
              "      <td>10449.0</td>\n",
              "      <td>13038.571</td>\n",
              "      <td>396378.0</td>\n",
              "      <td>42.0</td>\n",
              "      <td>39.714</td>\n",
              "      <td>...</td>\n",
              "      <td>8.05</td>\n",
              "      <td>72.58</td>\n",
              "      <td>0.824</td>\n",
              "      <td>144713312.0</td>\n",
              "      <td>NaN</td>\n",
              "      <td>NaN</td>\n",
              "      <td>NaN</td>\n",
              "      <td>NaN</td>\n",
              "      <td>16.922951</td>\n",
              "      <td>1099</td>\n",
              "    </tr>\n",
              "    <tr>\n",
              "      <th>215939</th>\n",
              "      <td>RUS</td>\n",
              "      <td>Europe</td>\n",
              "      <td>Russia</td>\n",
              "      <td>2023-03-08</td>\n",
              "      <td>NaN</td>\n",
              "      <td>NaN</td>\n",
              "      <td>NaN</td>\n",
              "      <td>NaN</td>\n",
              "      <td>NaN</td>\n",
              "      <td>NaN</td>\n",
              "      <td>...</td>\n",
              "      <td>8.05</td>\n",
              "      <td>72.58</td>\n",
              "      <td>0.824</td>\n",
              "      <td>144713312.0</td>\n",
              "      <td>NaN</td>\n",
              "      <td>NaN</td>\n",
              "      <td>NaN</td>\n",
              "      <td>NaN</td>\n",
              "      <td>NaN</td>\n",
              "      <td>1100</td>\n",
              "    </tr>\n",
              "    <tr>\n",
              "      <th>215940</th>\n",
              "      <td>RUS</td>\n",
              "      <td>Europe</td>\n",
              "      <td>Russia</td>\n",
              "      <td>2023-03-09</td>\n",
              "      <td>NaN</td>\n",
              "      <td>NaN</td>\n",
              "      <td>NaN</td>\n",
              "      <td>NaN</td>\n",
              "      <td>NaN</td>\n",
              "      <td>NaN</td>\n",
              "      <td>...</td>\n",
              "      <td>8.05</td>\n",
              "      <td>72.58</td>\n",
              "      <td>0.824</td>\n",
              "      <td>144713312.0</td>\n",
              "      <td>NaN</td>\n",
              "      <td>NaN</td>\n",
              "      <td>NaN</td>\n",
              "      <td>NaN</td>\n",
              "      <td>NaN</td>\n",
              "      <td>1101</td>\n",
              "    </tr>\n",
              "  </tbody>\n",
              "</table>\n",
              "<p>5 rows × 69 columns</p>\n",
              "</div>\n",
              "      <button class=\"colab-df-convert\" onclick=\"convertToInteractive('df-60431da9-b0e0-4b09-8434-e7e13090a54f')\"\n",
              "              title=\"Convert this dataframe to an interactive table.\"\n",
              "              style=\"display:none;\">\n",
              "        \n",
              "  <svg xmlns=\"http://www.w3.org/2000/svg\" height=\"24px\"viewBox=\"0 0 24 24\"\n",
              "       width=\"24px\">\n",
              "    <path d=\"M0 0h24v24H0V0z\" fill=\"none\"/>\n",
              "    <path d=\"M18.56 5.44l.94 2.06.94-2.06 2.06-.94-2.06-.94-.94-2.06-.94 2.06-2.06.94zm-11 1L8.5 8.5l.94-2.06 2.06-.94-2.06-.94L8.5 2.5l-.94 2.06-2.06.94zm10 10l.94 2.06.94-2.06 2.06-.94-2.06-.94-.94-2.06-.94 2.06-2.06.94z\"/><path d=\"M17.41 7.96l-1.37-1.37c-.4-.4-.92-.59-1.43-.59-.52 0-1.04.2-1.43.59L10.3 9.45l-7.72 7.72c-.78.78-.78 2.05 0 2.83L4 21.41c.39.39.9.59 1.41.59.51 0 1.02-.2 1.41-.59l7.78-7.78 2.81-2.81c.8-.78.8-2.07 0-2.86zM5.41 20L4 18.59l7.72-7.72 1.47 1.35L5.41 20z\"/>\n",
              "  </svg>\n",
              "      </button>\n",
              "      \n",
              "  <style>\n",
              "    .colab-df-container {\n",
              "      display:flex;\n",
              "      flex-wrap:wrap;\n",
              "      gap: 12px;\n",
              "    }\n",
              "\n",
              "    .colab-df-convert {\n",
              "      background-color: #E8F0FE;\n",
              "      border: none;\n",
              "      border-radius: 50%;\n",
              "      cursor: pointer;\n",
              "      display: none;\n",
              "      fill: #1967D2;\n",
              "      height: 32px;\n",
              "      padding: 0 0 0 0;\n",
              "      width: 32px;\n",
              "    }\n",
              "\n",
              "    .colab-df-convert:hover {\n",
              "      background-color: #E2EBFA;\n",
              "      box-shadow: 0px 1px 2px rgba(60, 64, 67, 0.3), 0px 1px 3px 1px rgba(60, 64, 67, 0.15);\n",
              "      fill: #174EA6;\n",
              "    }\n",
              "\n",
              "    [theme=dark] .colab-df-convert {\n",
              "      background-color: #3B4455;\n",
              "      fill: #D2E3FC;\n",
              "    }\n",
              "\n",
              "    [theme=dark] .colab-df-convert:hover {\n",
              "      background-color: #434B5C;\n",
              "      box-shadow: 0px 1px 3px 1px rgba(0, 0, 0, 0.15);\n",
              "      filter: drop-shadow(0px 1px 2px rgba(0, 0, 0, 0.3));\n",
              "      fill: #FFFFFF;\n",
              "    }\n",
              "  </style>\n",
              "\n",
              "      <script>\n",
              "        const buttonEl =\n",
              "          document.querySelector('#df-60431da9-b0e0-4b09-8434-e7e13090a54f button.colab-df-convert');\n",
              "        buttonEl.style.display =\n",
              "          google.colab.kernel.accessAllowed ? 'block' : 'none';\n",
              "\n",
              "        async function convertToInteractive(key) {\n",
              "          const element = document.querySelector('#df-60431da9-b0e0-4b09-8434-e7e13090a54f');\n",
              "          const dataTable =\n",
              "            await google.colab.kernel.invokeFunction('convertToInteractive',\n",
              "                                                     [key], {});\n",
              "          if (!dataTable) return;\n",
              "\n",
              "          const docLinkHtml = 'Like what you see? Visit the ' +\n",
              "            '<a target=\"_blank\" href=https://colab.research.google.com/notebooks/data_table.ipynb>data table notebook</a>'\n",
              "            + ' to learn more about interactive tables.';\n",
              "          element.innerHTML = '';\n",
              "          dataTable['output_type'] = 'display_data';\n",
              "          await google.colab.output.renderOutput(dataTable, element);\n",
              "          const docLink = document.createElement('div');\n",
              "          docLink.innerHTML = docLinkHtml;\n",
              "          element.appendChild(docLink);\n",
              "        }\n",
              "      </script>\n",
              "    </div>\n",
              "  </div>\n",
              "  "
            ]
          },
          "metadata": {},
          "execution_count": 52
        }
      ]
    },
    {
      "cell_type": "code",
      "source": [
        "train_cdata = cdata_rus[['date', 'total_cases', 'new_cases', 'log_target', 'daily_order']].iloc[:50]\n",
        "test_cdata = cdata_rus[['date', 'total_cases', 'new_cases', 'log_target', 'daily_order']].iloc[50:]"
      ],
      "metadata": {
        "id": "5FavdO7RIhRW"
      },
      "execution_count": 11,
      "outputs": []
    },
    {
      "cell_type": "code",
      "source": [
        "# обучаем модель \n",
        "linreg = LinearRegression()"
      ],
      "metadata": {
        "id": "TiIBXK3TN5qC"
      },
      "execution_count": 12,
      "outputs": []
    },
    {
      "cell_type": "code",
      "source": [
        "linreg.fit(train_cdata[['daily_order']], train_cdata.log_target)"
      ],
      "metadata": {
        "colab": {
          "base_uri": "https://localhost:8080/",
          "height": 75
        },
        "id": "iimjSWNUPMLU",
        "outputId": "8fd57b3d-e0a6-4391-cfa4-59068d06e65e"
      },
      "execution_count": 13,
      "outputs": [
        {
          "output_type": "execute_result",
          "data": {
            "text/plain": [
              "LinearRegression()"
            ],
            "text/html": [
              "<style>#sk-container-id-1 {color: black;background-color: white;}#sk-container-id-1 pre{padding: 0;}#sk-container-id-1 div.sk-toggleable {background-color: white;}#sk-container-id-1 label.sk-toggleable__label {cursor: pointer;display: block;width: 100%;margin-bottom: 0;padding: 0.3em;box-sizing: border-box;text-align: center;}#sk-container-id-1 label.sk-toggleable__label-arrow:before {content: \"▸\";float: left;margin-right: 0.25em;color: #696969;}#sk-container-id-1 label.sk-toggleable__label-arrow:hover:before {color: black;}#sk-container-id-1 div.sk-estimator:hover label.sk-toggleable__label-arrow:before {color: black;}#sk-container-id-1 div.sk-toggleable__content {max-height: 0;max-width: 0;overflow: hidden;text-align: left;background-color: #f0f8ff;}#sk-container-id-1 div.sk-toggleable__content pre {margin: 0.2em;color: black;border-radius: 0.25em;background-color: #f0f8ff;}#sk-container-id-1 input.sk-toggleable__control:checked~div.sk-toggleable__content {max-height: 200px;max-width: 100%;overflow: auto;}#sk-container-id-1 input.sk-toggleable__control:checked~label.sk-toggleable__label-arrow:before {content: \"▾\";}#sk-container-id-1 div.sk-estimator input.sk-toggleable__control:checked~label.sk-toggleable__label {background-color: #d4ebff;}#sk-container-id-1 div.sk-label input.sk-toggleable__control:checked~label.sk-toggleable__label {background-color: #d4ebff;}#sk-container-id-1 input.sk-hidden--visually {border: 0;clip: rect(1px 1px 1px 1px);clip: rect(1px, 1px, 1px, 1px);height: 1px;margin: -1px;overflow: hidden;padding: 0;position: absolute;width: 1px;}#sk-container-id-1 div.sk-estimator {font-family: monospace;background-color: #f0f8ff;border: 1px dotted black;border-radius: 0.25em;box-sizing: border-box;margin-bottom: 0.5em;}#sk-container-id-1 div.sk-estimator:hover {background-color: #d4ebff;}#sk-container-id-1 div.sk-parallel-item::after {content: \"\";width: 100%;border-bottom: 1px solid gray;flex-grow: 1;}#sk-container-id-1 div.sk-label:hover label.sk-toggleable__label {background-color: #d4ebff;}#sk-container-id-1 div.sk-serial::before {content: \"\";position: absolute;border-left: 1px solid gray;box-sizing: border-box;top: 0;bottom: 0;left: 50%;z-index: 0;}#sk-container-id-1 div.sk-serial {display: flex;flex-direction: column;align-items: center;background-color: white;padding-right: 0.2em;padding-left: 0.2em;position: relative;}#sk-container-id-1 div.sk-item {position: relative;z-index: 1;}#sk-container-id-1 div.sk-parallel {display: flex;align-items: stretch;justify-content: center;background-color: white;position: relative;}#sk-container-id-1 div.sk-item::before, #sk-container-id-1 div.sk-parallel-item::before {content: \"\";position: absolute;border-left: 1px solid gray;box-sizing: border-box;top: 0;bottom: 0;left: 50%;z-index: -1;}#sk-container-id-1 div.sk-parallel-item {display: flex;flex-direction: column;z-index: 1;position: relative;background-color: white;}#sk-container-id-1 div.sk-parallel-item:first-child::after {align-self: flex-end;width: 50%;}#sk-container-id-1 div.sk-parallel-item:last-child::after {align-self: flex-start;width: 50%;}#sk-container-id-1 div.sk-parallel-item:only-child::after {width: 0;}#sk-container-id-1 div.sk-dashed-wrapped {border: 1px dashed gray;margin: 0 0.4em 0.5em 0.4em;box-sizing: border-box;padding-bottom: 0.4em;background-color: white;}#sk-container-id-1 div.sk-label label {font-family: monospace;font-weight: bold;display: inline-block;line-height: 1.2em;}#sk-container-id-1 div.sk-label-container {text-align: center;}#sk-container-id-1 div.sk-container {/* jupyter's `normalize.less` sets `[hidden] { display: none; }` but bootstrap.min.css set `[hidden] { display: none !important; }` so we also need the `!important` here to be able to override the default hidden behavior on the sphinx rendered scikit-learn.org. See: https://github.com/scikit-learn/scikit-learn/issues/21755 */display: inline-block !important;position: relative;}#sk-container-id-1 div.sk-text-repr-fallback {display: none;}</style><div id=\"sk-container-id-1\" class=\"sk-top-container\"><div class=\"sk-text-repr-fallback\"><pre>LinearRegression()</pre><b>In a Jupyter environment, please rerun this cell to show the HTML representation or trust the notebook. <br />On GitHub, the HTML representation is unable to render, please try loading this page with nbviewer.org.</b></div><div class=\"sk-container\" hidden><div class=\"sk-item\"><div class=\"sk-estimator sk-toggleable\"><input class=\"sk-toggleable__control sk-hidden--visually\" id=\"sk-estimator-id-1\" type=\"checkbox\" checked><label for=\"sk-estimator-id-1\" class=\"sk-toggleable__label sk-toggleable__label-arrow\">LinearRegression</label><div class=\"sk-toggleable__content\"><pre>LinearRegression()</pre></div></div></div></div></div>"
            ]
          },
          "metadata": {},
          "execution_count": 13
        }
      ]
    },
    {
      "cell_type": "code",
      "source": [
        "\n",
        "plt.plot(train_cdata.daily_order, train_cdata.log_target)\n",
        "plt.plot(train_cdata.daily_order, linreg.predict(train_cdata[[\"daily_order\"]])) "
      ],
      "metadata": {
        "colab": {
          "base_uri": "https://localhost:8080/",
          "height": 282
        },
        "id": "p5jiQWppPPE6",
        "outputId": "5e22d427-d3f9-4ca3-cee0-b52ab9cedf1a"
      },
      "execution_count": 43,
      "outputs": [
        {
          "output_type": "execute_result",
          "data": {
            "text/plain": [
              "[<matplotlib.lines.Line2D at 0x7f5f56d0e3a0>]"
            ]
          },
          "metadata": {},
          "execution_count": 43
        },
        {
          "output_type": "display_data",
          "data": {
            "text/plain": [
              "<Figure size 432x288 with 1 Axes>"
            ],
            "image/png": "[encoded data removed]"
          },
          "metadata": {
            "needs_background": "light"
          }
        }
      ]
    },
    {
      "cell_type": "code",
      "source": [
        "plt.plot(test_cdata.daily_order, test_cdata.log_target)\n",
        "plt.plot(test_cdata.daily_order, linreg.predict(test_cdata[[\"daily_order\"]]))"
      ],
      "metadata": {
        "colab": {
          "base_uri": "https://localhost:8080/",
          "height": 282
        },
        "id": "Fny-s64BQDcN",
        "outputId": "99071515-6749-4111-8bf8-635f38c4a4c7"
      },
      "execution_count": 57,
      "outputs": [
        {
          "output_type": "execute_result",
          "data": {
            "text/plain": [
              "[<matplotlib.lines.Line2D at 0x7f5f59c6dcd0>]"
            ]
          },
          "metadata": {},
          "execution_count": 57
        },
        {
          "output_type": "display_data",
          "data": {
            "text/plain": [
              "<Figure size 432x288 with 1 Axes>"
            ],
            "image/png": "[encoded data removed]"
          },
          "metadata": {
            "needs_background": "light"
          }
        }
      ]
    },
    {
      "cell_type": "markdown",
      "source": [
        "Найдем апостериорное распределение параметров этой модели для достаточно широкого априорного распределения"
      ],
      "metadata": {
        "id": "49Keou4_9moL"
      }
    },
    {
      "cell_type": "markdown",
      "source": [
        "Оценим дисперсию шума e - \n",
        "$$\n",
        " y = Ax + e\n",
        "$$"
      ],
      "metadata": {
        "id": "5XYIu7Be1ir3"
      }
    },
    {
      "cell_type": "code",
      "source": [
        "preds = linreg.predict(train_cdata[[\"daily_order\"]])\n",
        "std_noise = np.std(preds - train_cdata.log_target)\n",
        "std_noise"
      ],
      "metadata": {
        "colab": {
          "base_uri": "https://localhost:8080/"
        },
        "id": "2P8m3hxira0L",
        "outputId": "f3ab538b-03e6-41bd-e737-c9f6795f5698"
      },
      "execution_count": 14,
      "outputs": [
        {
          "output_type": "execute_result",
          "data": {
            "text/plain": [
              "0.4498899109116323"
            ]
          },
          "metadata": {},
          "execution_count": 14
        }
      ]
    },
    {
      "cell_type": "code",
      "source": [
        "# возьмем произвольные параметры априорного распределения \n",
        "n = 2\n",
        "mu = np.zeros(n)\n",
        "sigma = 100 * np.eye(n)"
      ],
      "metadata": {
        "id": "rTErQ5YG9lao"
      },
      "execution_count": 15,
      "outputs": []
    },
    {
      "cell_type": "markdown",
      "source": [
        "Тогда апостериорное распределение рассчитаем по формуле\n",
        "$$\n",
        "𝑝(w ∣ D) = 𝑁(w ∣ {𝜇_𝑁}, {Σ_𝑁} )\n",
        "$$\n",
        "где \n",
        "$$\n",
        "{𝜇_N} = {Σ_N} ({Σ_0^{-1}}{𝜇_0} + {\\frac{1}{Σ^2}}{X^⊤y}) \n",
        "$$\n",
        "\n",
        "$$\n",
        "{Σ_𝑁}^{-1} = {Σ_0^{-1}} + {\\frac{1}{Σ^2}}{X^⊤X}\n",
        "$$"
      ],
      "metadata": {
        "id": "fr86T7x72ePE"
      }
    },
    {
      "cell_type": "code",
      "source": [
        "# оценим параметры апостериорного распределения \n",
        "\n",
        "def bayesian_update(mu, sigma, x, y, sigma_noise=.25):\n",
        "    x_matrix = np.array([[1, x_i] for x_i in x])\n",
        "    sigma_n = np.linalg.inv(np.linalg.inv(sigma)+ (1 / (sigma_noise ** 2)) * np.matmul(np.transpose(x_matrix), x_matrix) )\n",
        "    mu_n = np.matmul(sigma_n, np.matmul(np.linalg.inv(sigma), np.transpose(mu)) + (1 / (sigma_noise ** 2)) * np.matmul(np.transpose(x_matrix), y ) )\n",
        "    return mu_n, sigma_n"
      ],
      "metadata": {
        "id": "eABs2vl998px"
      },
      "execution_count": 16,
      "outputs": []
    },
    {
      "cell_type": "code",
      "source": [
        "cur_mu, cur_sigma = bayesian_update(mu, sigma, train_cdata.daily_order.values, train_cdata.log_target.values, std_noise)\n",
        "cur_mu.shape, cur_sigma.shape\n",
        "cur_mu, cur_sigma"
      ],
      "metadata": {
        "colab": {
          "base_uri": "https://localhost:8080/"
        },
        "id": "oeMV6BctBRl9",
        "outputId": "6044bfb2-fd76-4a6f-e2e6-524816bac66f"
      },
      "execution_count": 18,
      "outputs": [
        {
          "output_type": "execute_result",
          "data": {
            "text/plain": [
              "(array([1.19323277, 0.21411201]), array([[ 1.57133653e-02, -4.76162561e-04],\n",
              "        [-4.76162561e-04,  1.94359933e-05]]))"
            ]
          },
          "metadata": {},
          "execution_count": 18
        }
      ]
    },
    {
      "cell_type": "code",
      "source": [
        "N = 250\n",
        "\n",
        "X = np.linspace(-1, 1, N)\n",
        "Y = np.linspace(-1, 1, N)\n",
        "X, Y = np.meshgrid(X, Y)\n",
        "\n",
        "pos = np.empty(X.shape + (2,))\n",
        "pos[:, :, 0] = X\n",
        "pos[:, :, 1] = Y"
      ],
      "metadata": {
        "id": "4R2RfpxnSoVB"
      },
      "execution_count": 229,
      "outputs": []
    },
    {
      "cell_type": "code",
      "source": [
        "# апостерионое распределение\n",
        "Z = multivariate_normal.pdf(pos, mean=cur_mu, cov=cur_sigma)\n",
        "print(Z.shape)"
      ],
      "metadata": {
        "colab": {
          "base_uri": "https://localhost:8080/"
        },
        "id": "KNuueknSddf0",
        "outputId": "c4fb7a53-0136-45c5-db32-e5fa71e33859"
      },
      "execution_count": 230,
      "outputs": [
        {
          "output_type": "stream",
          "name": "stdout",
          "text": [
            "(250, 250)\n"
          ]
        }
      ]
    },
    {
      "cell_type": "code",
      "source": [
        "# Посэмплируем и порисуем прямые\n",
        "def myplot_sample_lines(mu, sigma, n=20, points=None):\n",
        "    \n",
        "    my_w = np.random.multivariate_normal(mu, sigma, n)\n",
        "\n",
        "    for w in my_w:\n",
        "        plt.plot(xs, np.exp(w[0] + w[1]*xs), 'k-', lw=.4)\n",
        "    if not points is None:\n",
        "        plt.scatter(points[0], points[1], marker='*', s=200)"
      ],
      "metadata": {
        "id": "0PXWRfzme3U2"
      },
      "execution_count": 232,
      "outputs": []
    },
    {
      "cell_type": "code",
      "source": [
        "xs = np.linspace(0, 181, 181)"
      ],
      "metadata": {
        "id": "XhpHwXVQCx5p"
      },
      "execution_count": 235,
      "outputs": []
    },
    {
      "cell_type": "code",
      "source": [
        "# points = [ cdata_rus[cdata_rus['date'] == '2020-05-01'].daily_order.values, cdata_rus[cdata_rus['date'] == '2020-05-01'].total_cases.values]\n",
        "fig = plt.figure(figsize=[15,10])\n",
        "ax = fig.add_subplot(111)\n",
        "\n",
        "myplot_sample_lines(cur_mu, cur_sigma, 100)\n",
        "\n",
        "# plt.plot(cdata_rus.daily_order.values, cdata_rus.total_cases.values)\n"
      ],
      "metadata": {
        "colab": {
          "base_uri": "https://localhost:8080/",
          "height": 602
        },
        "id": "VU6_tlGZfAqg",
        "outputId": "913339f1-9124-43c1-943c-2bf025f4b78f"
      },
      "execution_count": 236,
      "outputs": [
        {
          "output_type": "display_data",
          "data": {
            "text/plain": [
              "<Figure size 1080x720 with 1 Axes>"
            ],
            "image/png": "[encoded data removed]"
          },
          "metadata": {
            "needs_background": "light"
          }
        }
      ]
    },
    {
      "cell_type": "code",
      "source": [
        "xs = np.linspace(0, 60, 61)\n",
        "points = [ cdata_rus[cdata_rus['date'] == '2020-05-01'].daily_order.values, cdata_rus[cdata_rus['date'] == '2020-05-01'].total_cases.values\n",
        "          ]\n",
        "fig = plt.figure(figsize=[15,10])\n",
        "ax = fig.add_subplot(111)\n",
        "\n",
        "myplot_sample_lines(cur_mu, cur_sigma, 100,\n",
        "                    points)\n",
        "plt.plot(cdata_rus.daily_order.values[:60], cdata_rus.total_cases.values[:60])\n"
      ],
      "metadata": {
        "colab": {
          "base_uri": "https://localhost:8080/",
          "height": 619
        },
        "id": "kel3inMjDEAX",
        "outputId": "186ea609-121d-4ba1-e67e-1e64e544e1cc"
      },
      "execution_count": 233,
      "outputs": [
        {
          "output_type": "execute_result",
          "data": {
            "text/plain": [
              "[<matplotlib.lines.Line2D at 0x7fb3771655b0>]"
            ]
          },
          "metadata": {},
          "execution_count": 233
        },
        {
          "output_type": "display_data",
          "data": {
            "text/plain": [
              "<Figure size 1080x720 with 1 Axes>"
            ],
            "image/png": "[encoded data removed]"
          },
          "metadata": {
            "needs_background": "light"
          }
        }
      ]
    },
    {
      "cell_type": "markdown",
      "source": [
        "Синий график со звездой показывает реальное распределение заболеваний к 1 мая. Видно что кривые из апостериорного распределения предсказывает сильно большие значения "
      ],
      "metadata": {
        "id": "17onpsIn6raO"
      }
    },
    {
      "cell_type": "code",
      "source": [
        "xs = np.linspace(0, 182, 182)\n",
        "points = [ cdata_rus[cdata_rus['date'] == '2020-09-01'].daily_order.values, cdata_rus[cdata_rus['date'] == '2020-09-01'].total_cases.values\n",
        "          ]\n",
        "fig = plt.figure(figsize=[15,10])\n",
        "ax = fig.add_subplot(111)\n",
        "myplot_sample_lines(cur_mu, cur_sigma, 100,\n",
        "                    points)\n",
        "\n",
        "# plt.plot(cdata_rus.daily_order.values[:182], cdata_rus.total_cases.values[:182])\n"
      ],
      "metadata": {
        "colab": {
          "base_uri": "https://localhost:8080/",
          "height": 602
        },
        "id": "5nhA4Vh-DfOC",
        "outputId": "0f97c20f-a2ed-4e20-ecc4-b1026ae31097"
      },
      "execution_count": 237,
      "outputs": [
        {
          "output_type": "display_data",
          "data": {
            "text/plain": [
              "<Figure size 1080x720 with 1 Axes>"
            ],
            "image/png": "[encoded data removed]"
          },
          "metadata": {
            "needs_background": "light"
          }
        }
      ]
    },
    {
      "cell_type": "markdown",
      "source": [
        "Аналогичное к 1 сентября, предсказаное значение кратно отличается от реального"
      ],
      "metadata": {
        "id": "638r0Axk7VDL"
      }
    },
    {
      "cell_type": "code",
      "source": [],
      "metadata": {
        "id": "r3MWt1yNhFeQ"
      },
      "execution_count": null,
      "outputs": []
    },
    {
      "cell_type": "markdown",
      "source": [
        "# Задание 2"
      ],
      "metadata": {
        "id": "So4iNUxOTxDV"
      }
    },
    {
      "cell_type": "markdown",
      "source": [
        "Если посмотреть внимательнее на график роста заболеваемости, то к определенному дню он выходит на насыщение. Тогда график имеет сигмоидальный вид. В качестве конкретной формы такой сигмоиды возьмём форму функции распределения для гауссиана: \n",
        "![3eE-hk5QWaw.jpeg](data:image/jpeg;base64,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)"
      ],
      "metadata": {
        "id": "bf-Eoh4jT0O9"
      }
    },
    {
      "cell_type": "markdown",
      "source": [
        "Сведем решение сигмоидальной функции к линейной регрессии. \n",
        "$$\n",
        "y(x) =  \\int_{-\\infty}^{x} e^{at^2 + bt + c} \\,dt = дискретный \\ случай\n",
        "= \\sum_{0}^{x} e^{at^2 + bt + c} =\n",
        " \\sum_{0}^{x-1} e^{at^2 + bt + c} + e^{ax^2 + xb + c}\n",
        "$$\n",
        "\n",
        "$$\n",
        "y_N = y_{N-1} + e^{ax_N^2 + x_Nb + c}\n",
        "$$\n",
        "\n",
        " в нашем случае \n",
        " $$\n",
        " ln({totalcases}_N - {totalcases}_{N-1}) = ax_N^2 + x_Nb + c => ln(newcases) = AX\n",
        " $$\n",
        " $$ рассмотрим\\ линеную\\ регрессию\\ уже\\ с \\ 2я \\ признаками \\ - x, x^2\n",
        " $$"
      ],
      "metadata": {
        "id": "YJLphDejCgf9"
      }
    },
    {
      "cell_type": "code",
      "source": [
        "# добавляем нужные данные\n",
        "cdata_rus['daily_order_sqrt'] = cdata_rus.daily_order.apply(lambda x: np.square(x))\n",
        "cdata_rus['new_cases'] = cdata_rus.new_cases.apply(lambda x: 1 if x == 0 else x)\n",
        "cdata_rus['new_cases_log'] = cdata_rus.new_cases.apply(lambda x: (-1)*np.log(x))"
      ],
      "metadata": {
        "colab": {
          "base_uri": "https://localhost:8080/"
        },
        "id": "hMHXncx9dox7",
        "outputId": "3c3501b8-fccf-48d6-d99b-1ca191b27ad7"
      },
      "execution_count": 102,
      "outputs": [
        {
          "output_type": "stream",
          "name": "stderr",
          "text": [
            "<ipython-input-102-f5aa9d39176c>:2: SettingWithCopyWarning: \n",
            "A value is trying to be set on a copy of a slice from a DataFrame.\n",
            "Try using .loc[row_indexer,col_indexer] = value instead\n",
            "\n",
            "See the caveats in the documentation: https://pandas.pydata.org/pandas-docs/stable/user_guide/indexing.html#returning-a-view-versus-a-copy\n",
            "  cdata_rus['daily_order_sqrt'] = cdata_rus.daily_order.apply(lambda x: np.square(x))\n",
            "<ipython-input-102-f5aa9d39176c>:3: SettingWithCopyWarning: \n",
            "A value is trying to be set on a copy of a slice from a DataFrame.\n",
            "Try using .loc[row_indexer,col_indexer] = value instead\n",
            "\n",
            "See the caveats in the documentation: https://pandas.pydata.org/pandas-docs/stable/user_guide/indexing.html#returning-a-view-versus-a-copy\n",
            "  cdata_rus['new_cases'] = cdata_rus.new_cases.apply(lambda x: 1 if x == 0 else x)\n",
            "<ipython-input-102-f5aa9d39176c>:4: SettingWithCopyWarning: \n",
            "A value is trying to be set on a copy of a slice from a DataFrame.\n",
            "Try using .loc[row_indexer,col_indexer] = value instead\n",
            "\n",
            "See the caveats in the documentation: https://pandas.pydata.org/pandas-docs/stable/user_guide/indexing.html#returning-a-view-versus-a-copy\n",
            "  cdata_rus['new_cases_log'] = cdata_rus.new_cases.apply(lambda x: (-1)*np.log(x))\n"
          ]
        }
      ]
    },
    {
      "cell_type": "code",
      "source": [
        "train_cdata = cdata_rus[['date', 'total_cases', 'new_cases', 'log_target', 'daily_order', 'daily_order_sqrt', 'new_cases_log']].iloc[:50]\n",
        "test_cdata = cdata_rus[['date', 'total_cases', 'new_cases', 'log_target', 'daily_order', 'daily_order_sqrt', 'new_cases_log']].iloc[50:]"
      ],
      "metadata": {
        "id": "-pa8XY0kEoRt"
      },
      "execution_count": 103,
      "outputs": []
    },
    {
      "cell_type": "code",
      "source": [
        "linreg = LinearRegression()\n",
        "\n",
        "linreg.fit(train_cdata[['daily_order', 'daily_order_sqrt']].values, train_cdata.new_cases_log.values)"
      ],
      "metadata": {
        "colab": {
          "base_uri": "https://localhost:8080/",
          "height": 75
        },
        "id": "zxwTDXHbUtuV",
        "outputId": "31367838-3d84-40d1-f761-99a4bd304bf0"
      },
      "execution_count": 104,
      "outputs": [
        {
          "output_type": "execute_result",
          "data": {
            "text/plain": [
              "LinearRegression()"
            ],
            "text/html": [
              "<style>#sk-container-id-3 {color: black;background-color: white;}#sk-container-id-3 pre{padding: 0;}#sk-container-id-3 div.sk-toggleable {background-color: white;}#sk-container-id-3 label.sk-toggleable__label {cursor: pointer;display: block;width: 100%;margin-bottom: 0;padding: 0.3em;box-sizing: border-box;text-align: center;}#sk-container-id-3 label.sk-toggleable__label-arrow:before {content: \"▸\";float: left;margin-right: 0.25em;color: #696969;}#sk-container-id-3 label.sk-toggleable__label-arrow:hover:before {color: black;}#sk-container-id-3 div.sk-estimator:hover label.sk-toggleable__label-arrow:before {color: black;}#sk-container-id-3 div.sk-toggleable__content {max-height: 0;max-width: 0;overflow: hidden;text-align: left;background-color: #f0f8ff;}#sk-container-id-3 div.sk-toggleable__content pre {margin: 0.2em;color: black;border-radius: 0.25em;background-color: #f0f8ff;}#sk-container-id-3 input.sk-toggleable__control:checked~div.sk-toggleable__content {max-height: 200px;max-width: 100%;overflow: auto;}#sk-container-id-3 input.sk-toggleable__control:checked~label.sk-toggleable__label-arrow:before {content: \"▾\";}#sk-container-id-3 div.sk-estimator input.sk-toggleable__control:checked~label.sk-toggleable__label {background-color: #d4ebff;}#sk-container-id-3 div.sk-label input.sk-toggleable__control:checked~label.sk-toggleable__label {background-color: #d4ebff;}#sk-container-id-3 input.sk-hidden--visually {border: 0;clip: rect(1px 1px 1px 1px);clip: rect(1px, 1px, 1px, 1px);height: 1px;margin: -1px;overflow: hidden;padding: 0;position: absolute;width: 1px;}#sk-container-id-3 div.sk-estimator {font-family: monospace;background-color: #f0f8ff;border: 1px dotted black;border-radius: 0.25em;box-sizing: border-box;margin-bottom: 0.5em;}#sk-container-id-3 div.sk-estimator:hover {background-color: #d4ebff;}#sk-container-id-3 div.sk-parallel-item::after {content: \"\";width: 100%;border-bottom: 1px solid gray;flex-grow: 1;}#sk-container-id-3 div.sk-label:hover label.sk-toggleable__label {background-color: #d4ebff;}#sk-container-id-3 div.sk-serial::before {content: \"\";position: absolute;border-left: 1px solid gray;box-sizing: border-box;top: 0;bottom: 0;left: 50%;z-index: 0;}#sk-container-id-3 div.sk-serial {display: flex;flex-direction: column;align-items: center;background-color: white;padding-right: 0.2em;padding-left: 0.2em;position: relative;}#sk-container-id-3 div.sk-item {position: relative;z-index: 1;}#sk-container-id-3 div.sk-parallel {display: flex;align-items: stretch;justify-content: center;background-color: white;position: relative;}#sk-container-id-3 div.sk-item::before, #sk-container-id-3 div.sk-parallel-item::before {content: \"\";position: absolute;border-left: 1px solid gray;box-sizing: border-box;top: 0;bottom: 0;left: 50%;z-index: -1;}#sk-container-id-3 div.sk-parallel-item {display: flex;flex-direction: column;z-index: 1;position: relative;background-color: white;}#sk-container-id-3 div.sk-parallel-item:first-child::after {align-self: flex-end;width: 50%;}#sk-container-id-3 div.sk-parallel-item:last-child::after {align-self: flex-start;width: 50%;}#sk-container-id-3 div.sk-parallel-item:only-child::after {width: 0;}#sk-container-id-3 div.sk-dashed-wrapped {border: 1px dashed gray;margin: 0 0.4em 0.5em 0.4em;box-sizing: border-box;padding-bottom: 0.4em;background-color: white;}#sk-container-id-3 div.sk-label label {font-family: monospace;font-weight: bold;display: inline-block;line-height: 1.2em;}#sk-container-id-3 div.sk-label-container {text-align: center;}#sk-container-id-3 div.sk-container {/* jupyter's `normalize.less` sets `[hidden] { display: none; }` but bootstrap.min.css set `[hidden] { display: none !important; }` so we also need the `!important` here to be able to override the default hidden behavior on the sphinx rendered scikit-learn.org. See: https://github.com/scikit-learn/scikit-learn/issues/21755 */display: inline-block !important;position: relative;}#sk-container-id-3 div.sk-text-repr-fallback {display: none;}</style><div id=\"sk-container-id-3\" class=\"sk-top-container\"><div class=\"sk-text-repr-fallback\"><pre>LinearRegression()</pre><b>In a Jupyter environment, please rerun this cell to show the HTML representation or trust the notebook. <br />On GitHub, the HTML representation is unable to render, please try loading this page with nbviewer.org.</b></div><div class=\"sk-container\" hidden><div class=\"sk-item\"><div class=\"sk-estimator sk-toggleable\"><input class=\"sk-toggleable__control sk-hidden--visually\" id=\"sk-estimator-id-3\" type=\"checkbox\" checked><label for=\"sk-estimator-id-3\" class=\"sk-toggleable__label sk-toggleable__label-arrow\">LinearRegression</label><div class=\"sk-toggleable__content\"><pre>LinearRegression()</pre></div></div></div></div></div>"
            ]
          },
          "metadata": {},
          "execution_count": 104
        }
      ]
    },
    {
      "cell_type": "code",
      "source": [
        "plt.plot(train_cdata.daily_order, train_cdata.new_cases_log)\n",
        "plt.plot(train_cdata.daily_order, linreg.predict(train_cdata[['daily_order', 'daily_order_sqrt']])) "
      ],
      "metadata": {
        "colab": {
          "base_uri": "https://localhost:8080/",
          "height": 317
        },
        "id": "QCYsWBnPW_Im",
        "outputId": "80660829-ce65-4cc9-cd41-2ba0e15c379b"
      },
      "execution_count": 105,
      "outputs": [
        {
          "output_type": "stream",
          "name": "stderr",
          "text": [
            "/usr/local/lib/python3.9/dist-packages/sklearn/base.py:413: UserWarning: X has feature names, but LinearRegression was fitted without feature names\n",
            "  warnings.warn(\n"
          ]
        },
        {
          "output_type": "execute_result",
          "data": {
            "text/plain": [
              "[<matplotlib.lines.Line2D at 0x7fb649d0ce80>]"
            ]
          },
          "metadata": {},
          "execution_count": 105
        },
        {
          "output_type": "display_data",
          "data": {
            "text/plain": [
              "<Figure size 432x288 with 1 Axes>"
            ],
            "image/png": "[encoded data removed]"
          },
          "metadata": {
            "needs_background": "light"
          }
        }
      ]
    },
    {
      "cell_type": "code",
      "source": [
        "plt.plot(test_cdata.daily_order, test_cdata.new_cases_log)\n",
        "plt.plot(test_cdata.daily_order, linreg.predict(test_cdata[['daily_order', 'daily_order_sqrt']])) "
      ],
      "metadata": {
        "colab": {
          "base_uri": "https://localhost:8080/",
          "height": 318
        },
        "id": "103vJ5PXf0qs",
        "outputId": "d7a63b86-8043-4b2f-de5c-7eb869d9fae5"
      },
      "execution_count": 106,
      "outputs": [
        {
          "output_type": "stream",
          "name": "stderr",
          "text": [
            "/usr/local/lib/python3.9/dist-packages/sklearn/base.py:413: UserWarning: X has feature names, but LinearRegression was fitted without feature names\n",
            "  warnings.warn(\n"
          ]
        },
        {
          "output_type": "execute_result",
          "data": {
            "text/plain": [
              "[<matplotlib.lines.Line2D at 0x7fb649bf0130>]"
            ]
          },
          "metadata": {},
          "execution_count": 106
        },
        {
          "output_type": "display_data",
          "data": {
            "text/plain": [
              "<Figure size 432x288 with 1 Axes>"
            ],
            "image/png": "[encoded data removed]"
          },
          "metadata": {
            "needs_background": "light"
          }
        }
      ]
    },
    {
      "cell_type": "code",
      "source": [
        "linreg = LinearRegression()\n",
        "\n",
        "linreg.fit(cdata_rus[['daily_order', 'daily_order_sqrt']].values, cdata_rus.new_cases_log.fillna(0).values)"
      ],
      "metadata": {
        "colab": {
          "base_uri": "https://localhost:8080/",
          "height": 75
        },
        "id": "a93q3PS5kgcZ",
        "outputId": "07002b18-f853-47ae-9cca-31adbd262f9c"
      },
      "execution_count": 107,
      "outputs": [
        {
          "output_type": "execute_result",
          "data": {
            "text/plain": [
              "LinearRegression()"
            ],
            "text/html": [
              "<style>#sk-container-id-4 {color: black;background-color: white;}#sk-container-id-4 pre{padding: 0;}#sk-container-id-4 div.sk-toggleable {background-color: white;}#sk-container-id-4 label.sk-toggleable__label {cursor: pointer;display: block;width: 100%;margin-bottom: 0;padding: 0.3em;box-sizing: border-box;text-align: center;}#sk-container-id-4 label.sk-toggleable__label-arrow:before {content: \"▸\";float: left;margin-right: 0.25em;color: #696969;}#sk-container-id-4 label.sk-toggleable__label-arrow:hover:before {color: black;}#sk-container-id-4 div.sk-estimator:hover label.sk-toggleable__label-arrow:before {color: black;}#sk-container-id-4 div.sk-toggleable__content {max-height: 0;max-width: 0;overflow: hidden;text-align: left;background-color: #f0f8ff;}#sk-container-id-4 div.sk-toggleable__content pre {margin: 0.2em;color: black;border-radius: 0.25em;background-color: #f0f8ff;}#sk-container-id-4 input.sk-toggleable__control:checked~div.sk-toggleable__content {max-height: 200px;max-width: 100%;overflow: auto;}#sk-container-id-4 input.sk-toggleable__control:checked~label.sk-toggleable__label-arrow:before {content: \"▾\";}#sk-container-id-4 div.sk-estimator input.sk-toggleable__control:checked~label.sk-toggleable__label {background-color: #d4ebff;}#sk-container-id-4 div.sk-label input.sk-toggleable__control:checked~label.sk-toggleable__label {background-color: #d4ebff;}#sk-container-id-4 input.sk-hidden--visually {border: 0;clip: rect(1px 1px 1px 1px);clip: rect(1px, 1px, 1px, 1px);height: 1px;margin: -1px;overflow: hidden;padding: 0;position: absolute;width: 1px;}#sk-container-id-4 div.sk-estimator {font-family: monospace;background-color: #f0f8ff;border: 1px dotted black;border-radius: 0.25em;box-sizing: border-box;margin-bottom: 0.5em;}#sk-container-id-4 div.sk-estimator:hover {background-color: #d4ebff;}#sk-container-id-4 div.sk-parallel-item::after {content: \"\";width: 100%;border-bottom: 1px solid gray;flex-grow: 1;}#sk-container-id-4 div.sk-label:hover label.sk-toggleable__label {background-color: #d4ebff;}#sk-container-id-4 div.sk-serial::before {content: \"\";position: absolute;border-left: 1px solid gray;box-sizing: border-box;top: 0;bottom: 0;left: 50%;z-index: 0;}#sk-container-id-4 div.sk-serial {display: flex;flex-direction: column;align-items: center;background-color: white;padding-right: 0.2em;padding-left: 0.2em;position: relative;}#sk-container-id-4 div.sk-item {position: relative;z-index: 1;}#sk-container-id-4 div.sk-parallel {display: flex;align-items: stretch;justify-content: center;background-color: white;position: relative;}#sk-container-id-4 div.sk-item::before, #sk-container-id-4 div.sk-parallel-item::before {content: \"\";position: absolute;border-left: 1px solid gray;box-sizing: border-box;top: 0;bottom: 0;left: 50%;z-index: -1;}#sk-container-id-4 div.sk-parallel-item {display: flex;flex-direction: column;z-index: 1;position: relative;background-color: white;}#sk-container-id-4 div.sk-parallel-item:first-child::after {align-self: flex-end;width: 50%;}#sk-container-id-4 div.sk-parallel-item:last-child::after {align-self: flex-start;width: 50%;}#sk-container-id-4 div.sk-parallel-item:only-child::after {width: 0;}#sk-container-id-4 div.sk-dashed-wrapped {border: 1px dashed gray;margin: 0 0.4em 0.5em 0.4em;box-sizing: border-box;padding-bottom: 0.4em;background-color: white;}#sk-container-id-4 div.sk-label label {font-family: monospace;font-weight: bold;display: inline-block;line-height: 1.2em;}#sk-container-id-4 div.sk-label-container {text-align: center;}#sk-container-id-4 div.sk-container {/* jupyter's `normalize.less` sets `[hidden] { display: none; }` but bootstrap.min.css set `[hidden] { display: none !important; }` so we also need the `!important` here to be able to override the default hidden behavior on the sphinx rendered scikit-learn.org. See: https://github.com/scikit-learn/scikit-learn/issues/21755 */display: inline-block !important;position: relative;}#sk-container-id-4 div.sk-text-repr-fallback {display: none;}</style><div id=\"sk-container-id-4\" class=\"sk-top-container\"><div class=\"sk-text-repr-fallback\"><pre>LinearRegression()</pre><b>In a Jupyter environment, please rerun this cell to show the HTML representation or trust the notebook. <br />On GitHub, the HTML representation is unable to render, please try loading this page with nbviewer.org.</b></div><div class=\"sk-container\" hidden><div class=\"sk-item\"><div class=\"sk-estimator sk-toggleable\"><input class=\"sk-toggleable__control sk-hidden--visually\" id=\"sk-estimator-id-4\" type=\"checkbox\" checked><label for=\"sk-estimator-id-4\" class=\"sk-toggleable__label sk-toggleable__label-arrow\">LinearRegression</label><div class=\"sk-toggleable__content\"><pre>LinearRegression()</pre></div></div></div></div></div>"
            ]
          },
          "metadata": {},
          "execution_count": 107
        }
      ]
    },
    {
      "cell_type": "code",
      "source": [
        "plt.plot(cdata_rus.daily_order, cdata_rus.new_cases_log)\n",
        "plt.plot(cdata_rus.daily_order, linreg.predict(cdata_rus[['daily_order', 'daily_order_sqrt']]))"
      ],
      "metadata": {
        "colab": {
          "base_uri": "https://localhost:8080/",
          "height": 317
        },
        "id": "IO2QnEnvkVRR",
        "outputId": "f58d0e43-3a2c-4a4d-8c59-4f9f308dc07c"
      },
      "execution_count": 108,
      "outputs": [
        {
          "output_type": "stream",
          "name": "stderr",
          "text": [
            "/usr/local/lib/python3.9/dist-packages/sklearn/base.py:413: UserWarning: X has feature names, but LinearRegression was fitted without feature names\n",
            "  warnings.warn(\n"
          ]
        },
        {
          "output_type": "execute_result",
          "data": {
            "text/plain": [
              "[<matplotlib.lines.Line2D at 0x7fb64a128a60>]"
            ]
          },
          "metadata": {},
          "execution_count": 108
        },
        {
          "output_type": "display_data",
          "data": {
            "text/plain": [
              "<Figure size 432x288 with 1 Axes>"
            ],
            "image/png": "[encoded data removed]"
          },
          "metadata": {
            "needs_background": "light"
          }
        }
      ]
    },
    {
      "cell_type": "code",
      "source": [
        "preds = linreg.predict(cdata_rus[['daily_order', 'daily_order_sqrt']].values)\n",
        "var_noise = np.std(preds - cdata_rus.new_cases_log.fillna(0).values)\n",
        "var_noise"
      ],
      "metadata": {
        "colab": {
          "base_uri": "https://localhost:8080/"
        },
        "id": "AhYcU8fxvQ2S",
        "outputId": "2a972768-ff3f-4ab3-849a-90268d3816e6"
      },
      "execution_count": 109,
      "outputs": [
        {
          "output_type": "execute_result",
          "data": {
            "text/plain": [
              "1.2440674966077454"
            ]
          },
          "metadata": {},
          "execution_count": 109
        }
      ]
    },
    {
      "cell_type": "code",
      "source": [
        "# теперь у нас размерность 3 признака \n",
        "n = 3\n",
        "mu = np.zeros(n)\n",
        "sigma = 100 * np.eye(n)"
      ],
      "metadata": {
        "id": "cFqbcqGjzkHy"
      },
      "execution_count": 110,
      "outputs": []
    },
    {
      "cell_type": "code",
      "source": [
        "xs = np.linspace(0, 1000, 1001)"
      ],
      "metadata": {
        "id": "Rt4qh2u8-XZY"
      },
      "execution_count": 111,
      "outputs": []
    },
    {
      "cell_type": "code",
      "source": [
        "# x_data = pd.DataFrame()\n",
        "# x_data['b'] = np.ones(50)\n",
        "# x_data['daily_order'] = train_cdata['daily_order'].values\n",
        "# x_d55ata['daily_order_sqrt']=train_cdata['daily_order_sqrt'].values\n",
        "\n",
        "x_data = pd.DataFrame()\n",
        "x_data['b'] = np.ones(cdata_rus.shape[0])\n",
        "x_data['daily_order'] = cdata_rus['daily_order'].values\n",
        "x_data['daily_order_sqrt']=cdata_rus['daily_order_sqrt'].values"
      ],
      "metadata": {
        "id": "7gfJjd0L4iXs"
      },
      "execution_count": 112,
      "outputs": []
    },
    {
      "cell_type": "code",
      "source": [
        "def bayesian_update(mu, sigma, x_matrix, y, sigma_noise=.25):\n",
        "    \n",
        "    sigma_n = np.linalg.inv(np.linalg.inv(sigma)+ (1 / (sigma_noise ** 2)) * np.matmul(np.transpose(x_matrix), x_matrix) )\n",
        "    mu_n = np.matmul(sigma_n, np.matmul(np.linalg.inv(sigma), np.transpose(mu)) + (1 / (sigma_noise ** 2)) * np.matmul(np.transpose(x_matrix), y ) )\n",
        "    return mu_n, sigma_n"
      ],
      "metadata": {
        "id": "0CfENz7i0TDy"
      },
      "execution_count": 113,
      "outputs": []
    },
    {
      "cell_type": "code",
      "source": [
        "cur_mu, cur_sigma = bayesian_update(mu, sigma, x_data.values, cdata_rus.new_cases_log.fillna(0).values, var_noise)\n",
        "cur_mu.shape, cur_sigma.shape\n",
        "cur_mu, cur_sigma"
      ],
      "metadata": {
        "colab": {
          "base_uri": "https://localhost:8080/"
        },
        "id": "N0t-5qvwwYEy",
        "outputId": "81d56192-b64b-44aa-b67e-29d58ed32659"
      },
      "execution_count": 114,
      "outputs": [
        {
          "output_type": "execute_result",
          "data": {
            "text/plain": [
              "(array([-6.72110248e+00, -1.15409916e-02,  9.38344846e-06]),\n",
              " array([[ 1.25926947e-02, -4.57292433e-05,  3.45961895e-08],\n",
              "        [-4.57292433e-05,  2.21649026e-07, -1.88714432e-10],\n",
              "        [ 3.45961895e-08, -1.88714432e-10,  1.71405155e-13]]))"
            ]
          },
          "metadata": {},
          "execution_count": 114
        }
      ]
    },
    {
      "cell_type": "code",
      "source": [
        "def myplot_sample_lines(mu, sigma, n=20, points=None):\n",
        "    \n",
        "    my_w = np.random.multivariate_normal(mu, sigma, n)\n",
        "\n",
        "    for w in my_w:\n",
        "        s0 = 0\n",
        "        y_total = []\n",
        "        for i in xs:\n",
        "            y = np.exp(w[0] + w[1]*i+w[2]*np.square(i))\n",
        "            y += s0\n",
        "            y_total.append(y)\n",
        "            s0 += y\n",
        "        plt.plot(xs, np.array(y_total), 'k-', lw=.4)\n",
        "    if not points is None:\n",
        "        plt.scatter(points[0], points[1], marker='*', s=200)"
      ],
      "metadata": {
        "id": "iXdw9Nf836Ye"
      },
      "execution_count": 138,
      "outputs": []
    },
    {
      "cell_type": "code",
      "source": [
        "fig = plt.figure(figsize=[15,10])\n",
        "ax = fig.add_subplot(111)\n",
        "\n",
        "# ax.set_xlim((xs[0], 700))\n",
        "# ax.set_ylim((0, 20**6))\n",
        "\n",
        "myplot_sample_lines(cur_mu, cur_sigma, 100)\n",
        "plt.plot(cdata_rus.daily_order.values, cdata_rus.total_cases.values)"
      ],
      "metadata": {
        "colab": {
          "base_uri": "https://localhost:8080/",
          "height": 619
        },
        "id": "_XknF_xN0_GW",
        "outputId": "fe575438-892f-4824-952e-9d9da4f46142"
      },
      "execution_count": 139,
      "outputs": [
        {
          "output_type": "execute_result",
          "data": {
            "text/plain": [
              "[<matplotlib.lines.Line2D at 0x7fb647eb51c0>]"
            ]
          },
          "metadata": {},
          "execution_count": 139
        },
        {
          "output_type": "display_data",
          "data": {
            "text/plain": [
              "<Figure size 1080x720 with 1 Axes>"
            ],
            "image/png": "[encoded data removed]"
          },
          "metadata": {
            "needs_background": "light"
          }
        }
      ]
    },
    {
      "cell_type": "code",
      "source": [
        "plt.plot(cdata_rus.daily_order.values, cdata_rus.total_cases.values)"
      ],
      "metadata": {
        "colab": {
          "base_uri": "https://localhost:8080/",
          "height": 293
        },
        "id": "ZGy-ogZv1RZV",
        "outputId": "e75c2f0d-b9fe-4608-a676-a90037aa926d"
      },
      "execution_count": 97,
      "outputs": [
        {
          "output_type": "execute_result",
          "data": {
            "text/plain": [
              "[<matplotlib.lines.Line2D at 0x7fb649b971c0>]"
            ]
          },
          "metadata": {},
          "execution_count": 97
        },
        {
          "output_type": "display_data",
          "data": {
            "text/plain": [
              "<Figure size 432x288 with 1 Axes>"
            ],
            "image/png": "[encoded data removed]"
          },
          "metadata": {
            "needs_background": "light"
          }
        }
      ]
    },
    {
      "cell_type": "code",
      "source": [
        "55"
      ],
      "metadata": {
        "id": "p5jkC-xSCCcc"
      },
      "execution_count": null,
      "outputs": []
    }
  ]
}